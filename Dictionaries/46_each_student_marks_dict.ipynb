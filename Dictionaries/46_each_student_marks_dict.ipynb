{
 "cells": [
  {
   "cell_type": "markdown",
   "metadata": {},
   "source": [
    "Create a dictionary to store the total marks of 5 students in the class in 3 subjects (Course1, Course2, Course3). The keys must be the student names, and the values must be the list of marks. Create another list which has the course names in the same order as the marks are stored in the dictionary values. Now write a nested for loop to print the marks for each student exam wise.\n",
    "Student1\n",
    "Course1 marks : 82\n",
    "Course2 marks : 84\n",
    "Course3 marks : 72\n",
    "Student2\n",
    "Course1 marks : 87\n",
    "Course2 marks : 83\n",
    "Course3 marks : 78"
   ]
  },
  {
   "cell_type": "code",
   "execution_count": 2,
   "metadata": {},
   "outputs": [
    {
     "name": "stdout",
     "output_type": "stream",
     "text": [
      "{'akash': [94, 97, 92], 'amit': [93, 91, 96], 'rohit': [45, 86, 48], 'ram': [75, 87, 86], 'shyam': [94, 56, 75]}\n",
      "akash\n",
      "Python : 94\n",
      "Maths : 97\n",
      "english : 92\n",
      "\n",
      "\n",
      "amit\n",
      "Python : 93\n",
      "Maths : 91\n",
      "english : 96\n",
      "\n",
      "\n",
      "rohit\n",
      "Python : 45\n",
      "Maths : 86\n",
      "english : 48\n",
      "\n",
      "\n",
      "ram\n",
      "Python : 75\n",
      "Maths : 87\n",
      "english : 86\n",
      "\n",
      "\n",
      "shyam\n",
      "Python : 94\n",
      "Maths : 56\n",
      "english : 75\n",
      "\n",
      "\n"
     ]
    }
   ],
   "source": [
    "course_name=[\"Python\", \"Maths\", \"english\"]   # these are subjects\n",
    "dict_marks={}                                # in this empty dictionery we add keys from student name and values from student marks\n",
    "dict_marks[\"akash\"]=[94,97,92]\n",
    "dict_marks[\"amit\"]=[93,91,96]\n",
    "dict_marks[\"rohit\"]=[45,86,48]\n",
    "dict_marks[\"ram\"]=[75,87,86]\n",
    "dict_marks[\"shyam\"]=[94,56,75]\n",
    "print(dict_marks)\n",
    "for key,value in dict_marks.items():         # for itrating in dictionary\n",
    "    print(key)\n",
    "    for i in range(len(course_name)):        \n",
    "        print(course_name[i],\":\",value[i])\n",
    "    print(\"\\n\")"
   ]
  },
  {
   "cell_type": "code",
   "execution_count": null,
   "metadata": {},
   "outputs": [],
   "source": []
  }
 ],
 "metadata": {
  "kernelspec": {
   "display_name": "Python 3",
   "language": "python",
   "name": "python3"
  },
  "language_info": {
   "codemirror_mode": {
    "name": "ipython",
    "version": 3
   },
   "file_extension": ".py",
   "mimetype": "text/x-python",
   "name": "python",
   "nbconvert_exporter": "python",
   "pygments_lexer": "ipython3",
   "version": "3.12.0"
  }
 },
 "nbformat": 4,
 "nbformat_minor": 2
}
