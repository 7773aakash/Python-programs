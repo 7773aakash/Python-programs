{
 "cells": [
  {
   "cell_type": "markdown",
   "metadata": {},
   "source": [
    "Create a dictionary of your marks in various subjects and then sort it by its values first in descending order, and then in or ascending order. Do not use any inbuilt sorting functions.\n"
   ]
  },
  {
   "cell_type": "code",
   "execution_count": 17,
   "metadata": {},
   "outputs": [
    {
     "name": "stdout",
     "output_type": "stream",
     "text": [
      "{'python': 93, 'physics': 92, 'chemistry': 88, 'maths': 86}\n",
      "{'maths': 86, 'chemistry': 88, 'physics': 92, 'python': 93}\n"
     ]
    }
   ],
   "source": [
    "dict_marks={\"maths\":86,\"physics\":92,\"python\":93,\"chemistry\":88}\n",
    "list_value=[]                # in this we append values of our dictionery\n",
    "list_key=[]                  # in this we append keys of our dictionery\n",
    "descend_dict={}\n",
    "for key,value in dict_marks.items():  \n",
    "    list_value.append(value)\n",
    "    list_key.append(key)\n",
    "for i in range(len(list_value)):\n",
    "    for j in range(i+1,len(list_value)):\n",
    "        if list_value[i]<list_value[j]:                                # here we compare values \n",
    "            list_value[i],list_value[j]=list_value[j],list_value[i]    # if second value is greater then we swap them\n",
    "            list_key[i],list_key[j]=list_key[j],list_key[i]            # when we swap value then we swap key also\n",
    "    descend_dict[list_key[i]]=list_value[i]\n",
    "print(descend_dict)\n",
    "\n",
    "ascend_dict={}\n",
    "for i in range(len(list_value)):\n",
    "    for j in range(i+1,len(list_value)):\n",
    "        if list_value[i]>list_value[j]:                                # here we compare values \n",
    "            list_value[i],list_value[j]=list_value[j],list_value[i]    # if second value is value then we swap them\n",
    "            list_key[i],list_key[j]=list_key[j],list_key[i]            # when we swap value then we swap key also\n",
    "    ascend_dict[list_key[i]]=list_value[i]\n",
    "print(ascend_dict)\n",
    "\n",
    "\n"
   ]
  },
  {
   "cell_type": "code",
   "execution_count": null,
   "metadata": {},
   "outputs": [],
   "source": []
  }
 ],
 "metadata": {
  "kernelspec": {
   "display_name": "Python 3",
   "language": "python",
   "name": "python3"
  },
  "language_info": {
   "codemirror_mode": {
    "name": "ipython",
    "version": 3
   },
   "file_extension": ".py",
   "mimetype": "text/x-python",
   "name": "python",
   "nbconvert_exporter": "python",
   "pygments_lexer": "ipython3",
   "version": "3.12.0"
  }
 },
 "nbformat": 4,
 "nbformat_minor": 2
}
