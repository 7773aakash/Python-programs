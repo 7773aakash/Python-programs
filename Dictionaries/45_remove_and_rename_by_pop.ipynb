{
 "cells": [
  {
   "cell_type": "markdown",
   "metadata": {},
   "source": [
    "Remove a key from a dictionary:\n",
    "dict_name.pop(key_name)\n",
    "What does this function return?\n",
    "Use pop to rename a key."
   ]
  },
  {
   "cell_type": "code",
   "execution_count": 4,
   "metadata": {},
   "outputs": [
    {
     "name": "stdout",
     "output_type": "stream",
     "text": [
      "{'mango': 200, 'banana': 95}\n",
      "{'mango': 200, 'pineapple': 95}\n"
     ]
    }
   ],
   "source": [
    "dict_old={\"mango\":200,\"banana\":95,\"grapes\":60}\n",
    "dict_old.pop(\"grapes\")      # this remove grapes from the dict_old\n",
    "print(dict_old)\n",
    "pineapple=180\n",
    "dict_old[\"pineapple\"]=dict_old.pop(\"banana\")   # it rename the banana with the pineapple\n",
    "print(dict_old)"
   ]
  },
  {
   "cell_type": "code",
   "execution_count": null,
   "metadata": {},
   "outputs": [],
   "source": []
  }
 ],
 "metadata": {
  "kernelspec": {
   "display_name": "Python 3",
   "language": "python",
   "name": "python3"
  },
  "language_info": {
   "codemirror_mode": {
    "name": "ipython",
    "version": 3
   },
   "file_extension": ".py",
   "mimetype": "text/x-python",
   "name": "python",
   "nbconvert_exporter": "python",
   "pygments_lexer": "ipython3",
   "version": "3.12.0"
  }
 },
 "nbformat": 4,
 "nbformat_minor": 2
}
