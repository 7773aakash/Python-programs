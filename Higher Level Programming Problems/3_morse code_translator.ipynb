{
 "cells": [
  {
   "cell_type": "markdown",
   "metadata": {},
   "source": [
    "Create a Morse code translator."
   ]
  },
  {
   "cell_type": "code",
   "execution_count": 8,
   "metadata": {},
   "outputs": [],
   "source": [
    "\n",
    "morse_code_dict={'A':'.-', 'B':'-...', 'C':'-.-.', 'D':'-..', 'E':'.', 'F':'..-.',\n",
    "            'G':'--.', 'H':'....', 'I':'..', 'J':'.---', 'K':'-.-', 'L':'.-..',\n",
    "            'M':'--', 'N':'-.', 'O':'---', 'P':'.--.', 'Q':'--.-', 'R':'.-.', \n",
    "            'S':'...', 'T':'-', 'U':'..-', 'V':'...-', 'W':'.--', 'X':'-..-', \n",
    "            'Y':'-.--', 'Z':'--..', '1':'.----', '2':'..---', '3':'...--', \n",
    "            '4':'....-', '5':'.....', '6':'-....', '7':'--...', '8':'---..', \n",
    "            '9':'----.', '0':'-----', ', ':'--..--', '.':'.-.-.-', '?':'..--..',\n",
    "             '/':'-..-.', '-':'-....-', '(':'-.--.', ')':'-.--.-'}\n",
    "                                     # this is the morce code dictionary taken from google\n",
    "\n",
    "def encryption(text_str):   \n",
    "    text_str=text_str.upper()        # this changes input into upper case leters\n",
    "    code1=''\n",
    "    for i in text_str:\n",
    "            if i!=' ':\n",
    "                code1+=(morse_code_dict[i]+' ')\n",
    "            else:\n",
    "                code1+='/ '          #it represent space       \n",
    "    return code1\n",
    "\n",
    "def decryption(code):               # this is code for decryption of morse code \n",
    "\n",
    "    code_list=code.split()\n",
    "    string2=''            \n",
    "    code_dict={}            \n",
    "    for key,value in morse_code_dict.items():   # we swap the keys and values of morse_code_dict for decryption\n",
    "        key,value=key,value,\n",
    "        code_dict[value]=key\n",
    "    \n",
    "    for i in code_list:\n",
    "        if i=='/':                              # this represent space \n",
    "            string2+=' '\n",
    "            \n",
    "        else:\n",
    "            string2+=code_dict[i]    \n",
    "    return string2"
   ]
  },
  {
   "cell_type": "code",
   "execution_count": 9,
   "metadata": {},
   "outputs": [
    {
     "data": {
      "text/plain": [
       "'- .- ... -.- / -.-. --- -- .--. .-.. . - . -.. '"
      ]
     },
     "execution_count": 9,
     "metadata": {},
     "output_type": "execute_result"
    }
   ],
   "source": [
    "encryption(\"task completed\")"
   ]
  },
  {
   "cell_type": "code",
   "execution_count": 7,
   "metadata": {},
   "outputs": [
    {
     "data": {
      "text/plain": [
       "'TASK COMPLETED'"
      ]
     },
     "execution_count": 7,
     "metadata": {},
     "output_type": "execute_result"
    }
   ],
   "source": [
    "decryption('- .- ... -.- / -.-. --- -- .--. .-.. . - . -.. ')"
   ]
  },
  {
   "cell_type": "code",
   "execution_count": null,
   "metadata": {},
   "outputs": [],
   "source": []
  }
 ],
 "metadata": {
  "kernelspec": {
   "display_name": "Python 3",
   "language": "python",
   "name": "python3"
  },
  "language_info": {
   "codemirror_mode": {
    "name": "ipython",
    "version": 3
   },
   "file_extension": ".py",
   "mimetype": "text/x-python",
   "name": "python",
   "nbconvert_exporter": "python",
   "pygments_lexer": "ipython3",
   "version": "3.12.0"
  }
 },
 "nbformat": 4,
 "nbformat_minor": 2
}
