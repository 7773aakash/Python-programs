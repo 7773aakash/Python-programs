{
 "cells": [
  {
   "cell_type": "markdown",
   "metadata": {},
   "source": [
    "Given a list of numbers, sort it in ascending order."
   ]
  },
  {
   "cell_type": "code",
   "execution_count": 2,
   "metadata": {},
   "outputs": [
    {
     "name": "stdout",
     "output_type": "stream",
     "text": [
      "list in acending order is= [7, 7.7, 7.7, 8, 9]\n"
     ]
    }
   ],
   "source": [
    "list_marks=[7,7.7,8,7.7,9]\n",
    "lst_len=len(list_marks)\n",
    "for i in range(lst_len):                # for itrating in list_marks\n",
    "    for j in range(i+1,lst_len):\n",
    "        if list_marks[i]>list_marks[j]: # it compare first numbers\n",
    "            big_num=list_marks[i]       # if first number is greater then we store it into a variable\n",
    "            list_marks[i]=list_marks[j] # if first number is greater then we swap them \n",
    "            list_marks[j]=big_num       \n",
    "print(\"list_marks in acending order is=\",list_marks)                           \n"
   ]
  },
  {
   "cell_type": "code",
   "execution_count": null,
   "metadata": {},
   "outputs": [],
   "source": []
  }
 ],
 "metadata": {
  "kernelspec": {
   "display_name": "Python 3",
   "language": "python",
   "name": "python3"
  },
  "language_info": {
   "codemirror_mode": {
    "name": "ipython",
    "version": 3
   },
   "file_extension": ".py",
   "mimetype": "text/x-python",
   "name": "python",
   "nbconvert_exporter": "python",
   "pygments_lexer": "ipython3",
   "version": "3.12.0"
  }
 },
 "nbformat": 4,
 "nbformat_minor": 2
}
