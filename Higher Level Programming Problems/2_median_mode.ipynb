{
 "cells": [
  {
   "cell_type": "markdown",
   "metadata": {},
   "source": [
    "Given a list of numbers, find out the median and mode."
   ]
  },
  {
   "cell_type": "code",
   "execution_count": 7,
   "metadata": {},
   "outputs": [
    {
     "name": "stdout",
     "output_type": "stream",
     "text": [
      "meadian of given list_nums= 4.5\n",
      "mode of the list_nums= [2]\n"
     ]
    }
   ],
   "source": [
    "\n",
    "list_nums=[5,4,3,2,2,17,9,21]\n",
    "s=len(list_nums)            # calculate length to check list length is odd or even\n",
    "for i in range(s):\n",
    "    for j in range(i+1,s):\n",
    "        if list_nums[i]>list_nums[j]: \n",
    "            big_num=list_nums[i]\n",
    "            list_nums[i]=list_nums[j]\n",
    "            list_nums[j]=big_num\n",
    "if s%2==0:                  # if list lenght is even then median is average of middle two numbers of ordered list\n",
    "    median=(list_nums[int(s/2)]/2+list_nums[int((s-1)/2)]/2) \n",
    "else:                       # if list lenth is odd then median is middle number of list ordered list\n",
    "    median=(list_nums[int(s/2)])\n",
    "print(\"meadian of given list_nums=\", median) \n",
    "dict_count={}               # in this we store number as key and its frequency as number\n",
    "for i in list_nums:\n",
    "    count1=0                # this variable count the frequency of number in list\n",
    "    for j in list_nums:\n",
    "        if i==j:\n",
    "            count1+=1\n",
    "    dict_count[i]=count1    \n",
    "freq_val=0                       # in this we store maximum occurance \n",
    "for i in dict_count.values():    # for itrating in values of dictionary\n",
    "    if freq_val<i:\n",
    "       freq_val=i \n",
    "lst_mod=[]                       # in this maximum occured number\n",
    "for key,value in dict_count.items():    # for itrating in keys and values of dictionary to find maximum occured number\n",
    "    if value==freq_val:\n",
    "        lst_mod.append(key) \n",
    "print(\"mode of the list_nums=\",lst_mod)\n",
    "    \n",
    "\n"
   ]
  },
  {
   "cell_type": "code",
   "execution_count": null,
   "metadata": {},
   "outputs": [],
   "source": []
  }
 ],
 "metadata": {
  "kernelspec": {
   "display_name": "Python 3",
   "language": "python",
   "name": "python3"
  },
  "language_info": {
   "codemirror_mode": {
    "name": "ipython",
    "version": 3
   },
   "file_extension": ".py",
   "mimetype": "text/x-python",
   "name": "python",
   "nbconvert_exporter": "python",
   "pygments_lexer": "ipython3",
   "version": "3.12.0"
  }
 },
 "nbformat": 4,
 "nbformat_minor": 2
}
