{
 "cells": [
  {
   "cell_type": "markdown",
   "metadata": {},
   "source": [
    "Given a list of numbers, find out how many times each number occurs in the list."
   ]
  },
  {
   "cell_type": "code",
   "execution_count": 2,
   "metadata": {},
   "outputs": [
    {
     "name": "stdout",
     "output_type": "stream",
     "text": [
      "the number 2 occurs 2 times in the list_nums\n",
      "the number 3 occurs 2 times in the list_nums\n",
      "the number 44 occurs 2 times in the list_nums\n",
      "the number 17 occurs 2 times in the list_nums\n",
      "the number 1 occurs 1 times in the list_nums\n",
      "the number 82 occurs 1 times in the list_nums\n",
      "the number 12 occurs 1 times in the list_nums\n",
      "the number 21 occurs 1 times in the list_nums\n"
     ]
    }
   ],
   "source": [
    "\n",
    "list_nums=[2,2,3,3,44,44,17,17,1,82,12,21]\n",
    "list_unique=[]             # in this we append only unique numbers\n",
    "for i in list_nums:        # for itrating in list_nums\n",
    "    if i not in list_unique:\n",
    "        count1=0           # it count the frequency of number\n",
    "        for r in list_nums:\n",
    "            if i==r:\n",
    "                count1+=1  \n",
    "        list_unique.append(i)\n",
    "        print(\"the number\",i,\"occurs\",count1,\"times in the list_nums\")\n"
   ]
  },
  {
   "cell_type": "code",
   "execution_count": null,
   "metadata": {},
   "outputs": [],
   "source": []
  }
 ],
 "metadata": {
  "kernelspec": {
   "display_name": "Python 3",
   "language": "python",
   "name": "python3"
  },
  "language_info": {
   "codemirror_mode": {
    "name": "ipython",
    "version": 3
   },
   "file_extension": ".py",
   "mimetype": "text/x-python",
   "name": "python",
   "nbconvert_exporter": "python",
   "pygments_lexer": "ipython3",
   "version": "3.12.0"
  }
 },
 "nbformat": 4,
 "nbformat_minor": 2
}
