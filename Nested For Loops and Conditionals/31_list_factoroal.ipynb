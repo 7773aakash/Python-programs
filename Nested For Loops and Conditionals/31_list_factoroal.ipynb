{
 "cells": [
  {
   "cell_type": "markdown",
   "metadata": {},
   "source": [
    "Given a list of positive integers, find the factorial of all the numbers."
   ]
  },
  {
   "cell_type": "code",
   "execution_count": 25,
   "metadata": {},
   "outputs": [
    {
     "name": "stdout",
     "output_type": "stream",
     "text": [
      "Factorial of  1 = 1\n",
      "Factorial of  2 = 2\n",
      "Factorial of  5 = 120\n",
      "Factorial of  4 = 24\n",
      "Factorial of  6 = 720\n"
     ]
    }
   ],
   "source": [
    "list_nums=[1,2,5,4,6]\n",
    "for i in list_nums:    # fot itrating in list\n",
    "    if i==0 or i==1:   # to check 0 or 1\n",
    "        print(\"Factorial of \",i,\"=\",1)\n",
    "    else:\n",
    "        fact=1\n",
    "        for x in range(2,(i+1)):  \n",
    "         fact=fact*x\n",
    "        print(\"Factorial of \",i,\"=\",fact)\n",
    "    "
   ]
  },
  {
   "cell_type": "code",
   "execution_count": null,
   "metadata": {},
   "outputs": [],
   "source": []
  }
 ],
 "metadata": {
  "kernelspec": {
   "display_name": "Python 3",
   "language": "python",
   "name": "python3"
  },
  "language_info": {
   "codemirror_mode": {
    "name": "ipython",
    "version": 3
   },
   "file_extension": ".py",
   "mimetype": "text/x-python",
   "name": "python",
   "nbconvert_exporter": "python",
   "pygments_lexer": "ipython3",
   "version": "3.12.0"
  }
 },
 "nbformat": 4,
 "nbformat_minor": 2
}
