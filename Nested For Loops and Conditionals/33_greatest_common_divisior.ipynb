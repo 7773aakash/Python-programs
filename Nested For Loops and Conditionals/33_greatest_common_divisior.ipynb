{
 "cells": [
  {
   "cell_type": "markdown",
   "metadata": {},
   "source": [
    "Given two numbers, find its Greatest Common Divisor (Divisor)."
   ]
  },
  {
   "cell_type": "code",
   "execution_count": 7,
   "metadata": {},
   "outputs": [
    {
     "name": "stdout",
     "output_type": "stream",
     "text": [
      "Hcf of  3 and 18 is = 3\n"
     ]
    }
   ],
   "source": [
    "num1=int(input(\"Enter the first number\"))\n",
    "num2=int(input(\"Enter the second number\"))\n",
    "if num1<num2:        # to check minimum number \n",
    "    min_num=num1\n",
    "else:\n",
    "    min_num=num2\n",
    "for x in range(1,min_num+1):      \n",
    "    if num1%x==0 and num2%x==0:   # to check multiple of both\n",
    "        hcf=x\n",
    "print(\"Hcf of \",num1,\"and\",num2,\"is =\",hcf)"
   ]
  },
  {
   "cell_type": "code",
   "execution_count": null,
   "metadata": {},
   "outputs": [],
   "source": []
  }
 ],
 "metadata": {
  "kernelspec": {
   "display_name": "Python 3",
   "language": "python",
   "name": "python3"
  },
  "language_info": {
   "codemirror_mode": {
    "name": "ipython",
    "version": 3
   },
   "file_extension": ".py",
   "mimetype": "text/x-python",
   "name": "python",
   "nbconvert_exporter": "python",
   "pygments_lexer": "ipython3",
   "version": "3.12.0"
  }
 },
 "nbformat": 4,
 "nbformat_minor": 2
}
