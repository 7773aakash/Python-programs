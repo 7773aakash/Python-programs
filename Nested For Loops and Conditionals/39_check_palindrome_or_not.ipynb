{
 "cells": [
  {
   "cell_type": "markdown",
   "metadata": {},
   "source": [
    "Given a string input, find out if it’s a palindrome."
   ]
  },
  {
   "cell_type": "code",
   "execution_count": 1,
   "metadata": {},
   "outputs": [
    {
     "name": "stdout",
     "output_type": "stream",
     "text": [
      "given string is a palindrome\n"
     ]
    }
   ],
   "source": [
    "string1=(\"123321\")\n",
    "rev_str=\"\"                  # in this we store reverse string\n",
    "l=len(string1)\n",
    "given_string=string1\n",
    "for i in range(1,l+1):\n",
    "    rev_str+=string1[l-i]\n",
    "if rev_str==given_string:  # to compare reversed string and given string\n",
    "    print(\"given string is a palindrome\")\n",
    "else:\n",
    "     print(\"given string is not a palindrome\")   \n",
    "\n",
    "\n"
   ]
  },
  {
   "cell_type": "code",
   "execution_count": null,
   "metadata": {},
   "outputs": [],
   "source": []
  }
 ],
 "metadata": {
  "kernelspec": {
   "display_name": "Python 3",
   "language": "python",
   "name": "python3"
  },
  "language_info": {
   "codemirror_mode": {
    "name": "ipython",
    "version": 3
   },
   "file_extension": ".py",
   "mimetype": "text/x-python",
   "name": "python",
   "nbconvert_exporter": "python",
   "pygments_lexer": "ipython3",
   "version": "3.12.0"
  }
 },
 "nbformat": 4,
 "nbformat_minor": 2
}
