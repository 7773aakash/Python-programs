{
 "cells": [
  {
   "cell_type": "markdown",
   "metadata": {},
   "source": [
    "Given a positive integer, find out all prime numbers from 1 up to this number.\n"
   ]
  },
  {
   "cell_type": "code",
   "execution_count": 21,
   "metadata": {},
   "outputs": [
    {
     "name": "stdout",
     "output_type": "stream",
     "text": [
      "2\n"
     ]
    }
   ],
   "source": [
    "num1=int(input(\"Enter a number\"))\n",
    "if num1>1:                          # to check num is greater than 1\n",
    "    for  i in range(1,num1+1):     \n",
    "        if i>1:         \n",
    "            count1=0\n",
    "            sq_root=int((i*0.5)+1)   # we take square root to short our loop\n",
    "            for r in range(2,sq_root):  \n",
    "                if i%r==0:\n",
    "                    count1+=1   \n",
    "            if count1==0:            # if count is zero means there is no divisior of number 1 to squareroot\n",
    "                print(i)\n",
    "else:\n",
    "    print(\"There is no prime number from 1 upto\",num1)"
   ]
  },
  {
   "cell_type": "code",
   "execution_count": null,
   "metadata": {},
   "outputs": [],
   "source": []
  }
 ],
 "metadata": {
  "kernelspec": {
   "display_name": "Python 3",
   "language": "python",
   "name": "python3"
  },
  "language_info": {
   "codemirror_mode": {
    "name": "ipython",
    "version": 3
   },
   "file_extension": ".py",
   "mimetype": "text/x-python",
   "name": "python",
   "nbconvert_exporter": "python",
   "pygments_lexer": "ipython3",
   "version": "3.12.0"
  }
 },
 "nbformat": 4,
 "nbformat_minor": 2
}
