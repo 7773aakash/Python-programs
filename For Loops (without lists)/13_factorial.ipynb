{
 "cells": [
  {
   "cell_type": "markdown",
   "metadata": {},
   "source": [
    "Given a positive integer, find out its factorial.\n"
   ]
  },
  {
   "cell_type": "code",
   "execution_count": 2,
   "metadata": {},
   "outputs": [
    {
     "name": "stdout",
     "output_type": "stream",
     "text": [
      "Factorial of 5 is 120\n"
     ]
    }
   ],
   "source": [
    "num1=int(input(\"enter the integer to find its factorial\"))\n",
    "fact=1\n",
    "if num1>1:    \n",
    "    for i in range(2,num1+1):   # for itrating upto given integer\n",
    "        fact=fact*i             \n",
    "    print(\"Factorial of\",num1,\"is\",fact)\n",
    "else:         # condition if given integers are 0 or 1\n",
    "    print(\"Factorial is 1\")"
   ]
  }
 ],
 "metadata": {
  "kernelspec": {
   "display_name": "Python 3",
   "language": "python",
   "name": "python3"
  },
  "language_info": {
   "codemirror_mode": {
    "name": "ipython",
    "version": 3
   },
   "file_extension": ".py",
   "mimetype": "text/x-python",
   "name": "python",
   "nbconvert_exporter": "python",
   "pygments_lexer": "ipython3",
   "version": "3.11.6"
  }
 },
 "nbformat": 4,
 "nbformat_minor": 2
}
