{
 "cells": [
  {
   "cell_type": "markdown",
   "metadata": {},
   "source": [
    "Given a positive integer, find out if it’s prime or not."
   ]
  },
  {
   "cell_type": "code",
   "execution_count": 23,
   "metadata": {},
   "outputs": [
    {
     "name": "stdout",
     "output_type": "stream",
     "text": [
      "8 is not a prime number\n"
     ]
    }
   ],
   "source": [
    "num1=int(input(\"Enter the integer to check prime or not\"))\n",
    "count=0\n",
    "sq_root=int((num1**0.5)+1)   # To find square root of given number\n",
    "if num1>1:\n",
    "    for i in range(2,sq_root):\n",
    "        if num1%i==0:        # condition to check remainder\n",
    "            count=count+1\n",
    "    if count==0:\n",
    "        print(num1,\"is a prime number\")\n",
    "    else:            \n",
    "        print(num1,\"is not a prime number\")\n",
    "else:\n",
    "    print(\"num1 is not prime\")   \n",
    "\n"
   ]
  }
 ],
 "metadata": {
  "kernelspec": {
   "display_name": "Python 3",
   "language": "python",
   "name": "python3"
  },
  "language_info": {
   "codemirror_mode": {
    "name": "ipython",
    "version": 3
   },
   "file_extension": ".py",
   "mimetype": "text/x-python",
   "name": "python",
   "nbconvert_exporter": "python",
   "pygments_lexer": "ipython3",
   "version": "3.11.6"
  }
 },
 "nbformat": 4,
 "nbformat_minor": 2
}
