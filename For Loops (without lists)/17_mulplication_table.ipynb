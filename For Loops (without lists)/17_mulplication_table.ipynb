{
 "cells": [
  {
   "cell_type": "markdown",
   "metadata": {},
   "source": [
    "Given a positive integer, find the multiplication table of that integer up to 10"
   ]
  },
  {
   "cell_type": "code",
   "execution_count": null,
   "metadata": {},
   "outputs": [],
   "source": [
    "a=int(input(\"enter the positive integer\"))\n",
    "i=1\n",
    "if a>0:\n",
    "    for i in range(1,11):       \n",
    "        print(a,\"*\",(i),\"=\",a*(i))    #as i increases it gets mutipies wita a \n",
    "else:\n",
    "    print(\"number is not positive\")"
   ]
  }
 ],
 "metadata": {
  "language_info": {
   "name": "python"
  }
 },
 "nbformat": 4,
 "nbformat_minor": 2
}
