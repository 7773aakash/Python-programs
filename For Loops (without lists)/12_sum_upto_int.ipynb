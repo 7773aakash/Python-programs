{
 "cells": [
  {
   "cell_type": "markdown",
   "metadata": {},
   "source": [
    "Given a positive integer, find out the sum of all integers from 1 up to this number.\n"
   ]
  },
  {
   "cell_type": "code",
   "execution_count": 3,
   "metadata": {},
   "outputs": [
    {
     "name": "stdout",
     "output_type": "stream",
     "text": [
      "The sum from 1 upto 5 is = 15\n"
     ]
    }
   ],
   "source": [
    "num1=int(input(\"enter the integer\"))\n",
    "sum=0     \n",
    "for i in range(1,num1+1):  # For iterating from 1   \n",
    "    sum+=i           # it store sum as we go through integers\n",
    "print(\"The sum from 1 upto\",num1,\"is =\",sum)\n"
   ]
  }
 ],
 "metadata": {
  "kernelspec": {
   "display_name": "Python 3",
   "language": "python",
   "name": "python3"
  },
  "language_info": {
   "codemirror_mode": {
    "name": "ipython",
    "version": 3
   },
   "file_extension": ".py",
   "mimetype": "text/x-python",
   "name": "python",
   "nbconvert_exporter": "python",
   "pygments_lexer": "ipython3",
   "version": "3.11.6"
  }
 },
 "nbformat": 4,
 "nbformat_minor": 2
}
