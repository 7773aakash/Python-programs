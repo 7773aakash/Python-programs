{
 "cells": [
  {
   "cell_type": "markdown",
   "metadata": {},
   "source": [
    "Given a list of numbers, find out the mean and standard deviation.\n"
   ]
  },
  {
   "cell_type": "code",
   "execution_count": 6,
   "metadata": {},
   "outputs": [
    {
     "name": "stdout",
     "output_type": "stream",
     "text": [
      "mean of the list is= 4.0\n",
      "standard deviation is= 2.0\n"
     ]
    }
   ],
   "source": [
    "list_nums=[1,2,3,4,5,6,7]\n",
    "sum=0\n",
    "list_len=0\n",
    "netdev=0\n",
    "for i in list_nums:\n",
    "    sum+=i          # it store sum as we go through list\n",
    "    list_len+=1     # it count the numbers as we go through list\n",
    "average=sum/list_len\n",
    "print(\"mean of the list is=\",average)\n",
    "for x in list_nums:\n",
    "    dev=(x-average)**2  # it give deviation of each number\n",
    "    netdev=netdev+dev   \n",
    "st_dev=(netdev/list_len)**0.5\n",
    "print(\"standard deviation is=\",st_dev)\n"
   ]
  }
 ],
 "metadata": {
  "kernelspec": {
   "display_name": "Python 3",
   "language": "python",
   "name": "python3"
  },
  "language_info": {
   "codemirror_mode": {
    "name": "ipython",
    "version": 3
   },
   "file_extension": ".py",
   "mimetype": "text/x-python",
   "name": "python",
   "nbconvert_exporter": "python",
   "pygments_lexer": "ipython3",
   "version": "3.12.0"
  }
 },
 "nbformat": 4,
 "nbformat_minor": 2
}
