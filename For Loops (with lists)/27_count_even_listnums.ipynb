{
 "cells": [
  {
   "cell_type": "markdown",
   "metadata": {},
   "source": [
    "Given a list of numbers, find out how many even numbers it has."
   ]
  },
  {
   "cell_type": "code",
   "execution_count": 2,
   "metadata": {},
   "outputs": [
    {
     "name": "stdout",
     "output_type": "stream",
     "text": [
      "There are  4 even numbers in list_nums\n"
     ]
    }
   ],
   "source": [
    "list_nums=[5,15,165,34,5,24,5,214,6,]\n",
    "count=0            # take a variabe to count \n",
    "for i in list_nums:\n",
    "    if i%2==0:     # condition for even number \n",
    "        count+=1   # it increses with 1 when number is even\n",
    "print(\"There are \",count,\"even numbers in list_nums\") "
   ]
  }
 ],
 "metadata": {
  "kernelspec": {
   "display_name": "Python 3",
   "language": "python",
   "name": "python3"
  },
  "language_info": {
   "codemirror_mode": {
    "name": "ipython",
    "version": 3
   },
   "file_extension": ".py",
   "mimetype": "text/x-python",
   "name": "python",
   "nbconvert_exporter": "python",
   "pygments_lexer": "ipython3",
   "version": "3.12.0"
  }
 },
 "nbformat": 4,
 "nbformat_minor": 2
}
