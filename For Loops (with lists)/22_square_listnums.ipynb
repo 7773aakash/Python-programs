{
 "cells": [
  {
   "cell_type": "markdown",
   "metadata": {},
   "source": [
    "Given a list of numbers, find the squares of all the numbers."
   ]
  },
  {
   "cell_type": "code",
   "execution_count": 1,
   "metadata": {},
   "outputs": [
    {
     "name": "stdout",
     "output_type": "stream",
     "text": [
      "list of square of list_nums is= [4, 25, 36, 16, 64, 9, 16, 121, 4]\n"
     ]
    }
   ],
   "source": [
    "list_nums=[2,5,6,4,8,3,4,11,2]\n",
    "list_sqr=[]    # Take a emply list to append square of numbers\n",
    "for i in list_nums:\n",
    "    r=i*i      # it give square of each number\n",
    "    list_sqr.append(r)\n",
    "print(\"list of square of list_nums is=\",list_sqr)\n"
   ]
  }
 ],
 "metadata": {
  "kernelspec": {
   "display_name": "Python 3",
   "language": "python",
   "name": "python3"
  },
  "language_info": {
   "codemirror_mode": {
    "name": "ipython",
    "version": 3
   },
   "file_extension": ".py",
   "mimetype": "text/x-python",
   "name": "python",
   "nbconvert_exporter": "python",
   "pygments_lexer": "ipython3",
   "version": "3.12.0"
  }
 },
 "nbformat": 4,
 "nbformat_minor": 2
}
