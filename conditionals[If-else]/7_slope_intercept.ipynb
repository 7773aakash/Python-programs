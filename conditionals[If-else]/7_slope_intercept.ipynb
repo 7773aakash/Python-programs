{
 "cells": [
  {
   "cell_type": "code",
   "execution_count": 4,
   "metadata": {},
   "outputs": [
    {
     "name": "stdout",
     "output_type": "stream",
     "text": [
      "slope of line is 37.83783783783784 and intercept= -173.02702702702754\n"
     ]
    }
   ],
   "source": [
    "x1=float(input(\"enter the x1 coordinate\"))\n",
    "#To give x1 coordinate of first point\n",
    "y1=float(input(\"enter the y1 coordinate\"))\n",
    "#To give y1 coordinate of first point\n",
    "x2=float(input(\"enter the x2 coordinate\"))\n",
    "#To give x2 coordinate of second point\n",
    "y2=float(input(\"enter the y2 coordinate\"))\n",
    "#To give y2 coordinate of second point\n",
    "if (x2-x1)==0:\n",
    "    print(\"line is vertical and slope is not defined and no intercept\")\n",
    "else:\n",
    "    slope=(y2-y1)/(x2-x1)\n",
    "    print(\"slope of line is\",slope,\"and intercept=\",y1-(slope*x1))\n",
    "\n",
    "\n",
    "\n"
   ]
  },
  {
   "cell_type": "code",
   "execution_count": null,
   "metadata": {},
   "outputs": [],
   "source": []
  }
 ],
 "metadata": {
  "kernelspec": {
   "display_name": "Python 3",
   "language": "python",
   "name": "python3"
  },
  "language_info": {
   "codemirror_mode": {
    "name": "ipython",
    "version": 3
   },
   "file_extension": ".py",
   "mimetype": "text/x-python",
   "name": "python",
   "nbconvert_exporter": "python",
   "pygments_lexer": "ipython3",
   "version": "3.12.0"
  }
 },
 "nbformat": 4,
 "nbformat_minor": 2
}
