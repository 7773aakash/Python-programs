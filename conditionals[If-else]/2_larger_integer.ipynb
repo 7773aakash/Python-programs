{
 "cells": [
  {
   "cell_type": "code",
   "execution_count": null,
   "metadata": {},
   "outputs": [],
   "source": [
    "num1=int(input(\"Enter the first integer\"))\n",
    "num2=int(input(\"Enter the second integer\"))\n",
    "if num1>num2:\n",
    "    print(num1,\"is greatest\")     #to check which is greater\n",
    "elif num2>num1:\n",
    "    print(num2,\"is greatest\")\n",
    "else:\n",
    "    print(\"both are equal\")\n",
    "    "
   ]
  }
 ],
 "metadata": {
  "kernelspec": {
   "display_name": "Python 3",
   "language": "python",
   "name": "python3"
  },
  "language_info": {
   "name": "python",
   "version": "3.11.0"
  }
 },
 "nbformat": 4,
 "nbformat_minor": 2
}
