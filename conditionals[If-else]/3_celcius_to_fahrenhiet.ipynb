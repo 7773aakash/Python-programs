{
 "cells": [
  {
   "cell_type": "code",
   "execution_count": null,
   "metadata": {},
   "outputs": [],
   "source": [
    "c=float(input(\"enter temperature in celcius\"))\n",
    "#c=Temperatute in celcius \n",
    "f=(c*1.8)+32     \n",
    "#Formula to convert celcicus into fahrenheit \n",
    "if f>90:\n",
    "    print(\"It’s hot outside\")\n",
    "else:\n",
    "    print(\"pleasant\")"
   ]
  }
 ],
 "metadata": {
  "kernelspec": {
   "display_name": "Python 3",
   "language": "python",
   "name": "python3"
  },
  "language_info": {
   "name": "python",
   "version": "3.11.6"
  }
 },
 "nbformat": 4,
 "nbformat_minor": 2
}
