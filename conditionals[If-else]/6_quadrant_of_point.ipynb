{
 "cells": [
  {
   "cell_type": "code",
   "execution_count": null,
   "metadata": {},
   "outputs": [],
   "source": [
    "x=float(input(\"enter the x coordinate\")) \n",
    "#To give x coordinate of point\n",
    "y=float(input(\"enter the y coordinate\"))\n",
    "#To give y coordinate of point\n",
    "if x>0 and y>0:\n",
    "    print(\"In first quadrant\")\n",
    "    #condition for first quadrant\n",
    "elif x<0 and y>0:\n",
    "    print(\"In second quadrant\")\n",
    "    #condition for second quadrant\n",
    "elif x<0 and y<0:\n",
    "    print(\"In third quadrant\")\n",
    "    #condition for third quadrant\n",
    "elif x>0 and y<0:\n",
    "    print(\"In fourth quadrant\")\n",
    "    #condition for fourth quadrant\n",
    "else:\n",
    "    print(\"The point does not lies in any quadrant\")"
   ]
  }
 ],
 "metadata": {
  "kernelspec": {
   "display_name": "Python 3",
   "language": "python",
   "name": "python3"
  },
  "language_info": {
   "name": "python",
   "version": "3.11.6"
  }
 },
 "nbformat": 4,
 "nbformat_minor": 2
}
