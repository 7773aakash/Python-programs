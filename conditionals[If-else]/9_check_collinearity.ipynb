{
 "cells": [
  {
   "cell_type": "code",
   "execution_count": null,
   "metadata": {},
   "outputs": [],
   "source": [
    "x1=float(input(\"x coordinate of first point\"))\n",
    "y1=float(input(\"y coordinate of first point\"))\n",
    "x2=float(input(\"x coordinate of second point\"))\n",
    "y2=float(input(\"y coordinate of secind point\"))\n",
    "x3=float(input(\"x coordinate of third point\"))\n",
    "y3=float(input(\"y coordinate of third point\"))\n",
    "\n",
    "s1=(x2-x1)/(y2-y1)          #to check slope \n",
    "s2=(x3-x2)/(y3-y2)\n",
    "if s1==s2:\n",
    "    print (\"All the points are on same straight line\")\n",
    "else:\n",
    "    print(\"points are not on same straight line\")\n"
   ]
  }
 ],
 "metadata": {
  "kernelspec": {
   "display_name": "Python 3",
   "language": "python",
   "name": "python3"
  },
  "language_info": {
   "name": "python",
   "version": "3.11.0"
  }
 },
 "nbformat": 4,
 "nbformat_minor": 2
}
