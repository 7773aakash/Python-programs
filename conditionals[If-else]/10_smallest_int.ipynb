{
 "cells": [
  {
   "cell_type": "code",
   "execution_count": null,
   "metadata": {},
   "outputs": [],
   "source": [
    "a=float(input(\"enter the first number\"))\n",
    "b=float(input(\"enter the second number\"))\n",
    "c=float(input(\"enter the third number\"))\n",
    "if a<b and a<c:         #to compare between a,b and c\n",
    "    print(a,\"is the smallest number\")\n",
    "elif b<c:\n",
    "    print(b,\"is rhe smallest number\")\n",
    "else:\n",
    "    print(c,\"is the smallest number\")"
   ]
  }
 ],
 "metadata": {
  "kernelspec": {
   "display_name": "Python 3",
   "language": "python",
   "name": "python3"
  },
  "language_info": {
   "name": "python",
   "version": "3.11.0"
  }
 },
 "nbformat": 4,
 "nbformat_minor": 2
}
